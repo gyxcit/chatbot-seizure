{
 "cells": [
  {
   "cell_type": "markdown",
   "id": "d1dd8a7b",
   "metadata": {
    "vscode": {
     "languageId": "markdown"
    }
   },
   "source": [
    "# Introduction\n",
    "\n",
    "This notebook is designed to experiment with our RAG (Retrieval-Augmented Generation) system and explore which parameters best optimize its performance. Through various cells, we will test, adjust, and analyze the impact of different settings to identify those that deliver the best results for our use case."
   ]
  },
  {
   "cell_type": "markdown",
   "id": "260f5fc6",
   "metadata": {},
   "source": [
    "# 0. Import "
   ]
  },
  {
   "cell_type": "code",
   "execution_count": null,
   "id": "a4f56816",
   "metadata": {},
   "outputs": [],
   "source": []
  }
 ],
 "metadata": {
  "kernelspec": {
   "display_name": "venv",
   "language": "python",
   "name": "python3"
  },
  "language_info": {
   "codemirror_mode": {
    "name": "ipython",
    "version": 3
   },
   "file_extension": ".py",
   "mimetype": "text/x-python",
   "name": "python",
   "nbconvert_exporter": "python",
   "pygments_lexer": "ipython3",
   "version": "3.10.11"
  }
 },
 "nbformat": 4,
 "nbformat_minor": 5
}
